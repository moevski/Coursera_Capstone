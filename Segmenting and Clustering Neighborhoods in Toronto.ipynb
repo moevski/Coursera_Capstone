{
 "cells": [
  {
   "cell_type": "markdown",
   "metadata": {},
   "source": [
    "# Segmenting and Clustering Neighborhoods in the city of Toronto, Canada\n",
    "\n",
    "### Part 1 Soluation"
   ]
  },
  {
   "cell_type": "code",
   "execution_count": 1,
   "metadata": {},
   "outputs": [
    {
     "name": "stdout",
     "output_type": "stream",
     "text": [
      "Requirement already satisfied: beautifulsoup4 in /home/jupyterlab/conda/envs/python/lib/python3.6/site-packages (4.9.1)\n",
      "Requirement already satisfied: soupsieve>1.2 in /home/jupyterlab/conda/envs/python/lib/python3.6/site-packages (from beautifulsoup4) (2.0.1)\n",
      "Required packages imported!\n"
     ]
    }
   ],
   "source": [
    "# importing requests & pandas\n",
    "import requests\n",
    "import pandas as pd\n",
    "\n",
    "# installing & importing beautifulsoup \n",
    "!pip install beautifulsoup4\n",
    "from bs4 import BeautifulSoup\n",
    "\n",
    "print ('Required packages imported!')"
   ]
  },
  {
   "cell_type": "code",
   "execution_count": 2,
   "metadata": {},
   "outputs": [],
   "source": [
    "# Importing the web page using requests\n",
    "url = requests.get(\"https://en.wikipedia.org/wiki/List_of_postal_codes_of_Canada:_M\").text\n"
   ]
  },
  {
   "cell_type": "code",
   "execution_count": 3,
   "metadata": {},
   "outputs": [],
   "source": [
    "# using beautifulsoup to parse the html contents\n",
    "soup = BeautifulSoup(url, \"html.parser\")\n",
    "\n",
    "# extracting html formated table by its class name \"wikitable sortable\" from soup object\n",
    "table = soup.find(\"table\",{\"class\":\"wikitable sortable\"})\n"
   ]
  },
  {
   "cell_type": "code",
   "execution_count": 4,
   "metadata": {},
   "outputs": [
    {
     "name": "stdout",
     "output_type": "stream",
     "text": [
      "Table has 180 rows and 3 columns\n"
     ]
    }
   ],
   "source": [
    "# constructing a list from the html table\n",
    "data = []\n",
    "rows = table.find_all(\"tr\")\n",
    "for row in rows:\n",
    "    # constructing the header\n",
    "    if row.find(\"th\"):\n",
    "        header = [t.text.strip() for t in row.find_all(\"th\")]\n",
    "        \n",
    "    #constructing the body\n",
    "    else:\n",
    "        cols = [t.text.strip() for t in row.find_all(\"td\")]\n",
    "        data.append(cols)\n",
    "\n",
    "# length of constructed list\n",
    "print (\"Table has {} rows and {} columns\".format(len(data),len(data[0])))\n"
   ]
  },
  {
   "cell_type": "code",
   "execution_count": 5,
   "metadata": {},
   "outputs": [
    {
     "name": "stdout",
     "output_type": "stream",
     "text": [
      "Dataframe has 180 rows and 3 columns\n",
      "Dataframe columns: Postal Code, Borough, Neighborhood\n"
     ]
    }
   ],
   "source": [
    "# converting the list to Pandas Dataframe with header variable as DF header\n",
    "df = pd.DataFrame(data, columns = header)\n",
    "\n",
    "#Dataframe size & columns name\n",
    "print (\"Dataframe has {} rows and {} columns\".format(df.shape[0],df.shape[1]))\n",
    "print (\"Dataframe columns: {}, {}, {}\".format(df.columns[0],df.columns[1],df.columns[2]))"
   ]
  },
  {
   "cell_type": "code",
   "execution_count": 20,
   "metadata": {},
   "outputs": [
    {
     "name": "stdout",
     "output_type": "stream",
     "text": [
      "Updated Dataframe has 103 rows and 3 columns\n"
     ]
    }
   ],
   "source": [
    "#dropping rows with borough not assigned\n",
    "df = df[df.Borough != 'Not assigned']\n",
    "\n",
    "# There is no duplicate rows with same postal code to be combined\n",
    "df[df[['Postal Code']].duplicated()]\n",
    "\n",
    "#updated Dataframe size:\n",
    "print (\"Updated Dataframe has {} rows and {} columns\".format(df.shape[0],df.shape[1]))"
   ]
  },
  {
   "cell_type": "code",
   "execution_count": null,
   "metadata": {},
   "outputs": [],
   "source": []
  },
  {
   "cell_type": "code",
   "execution_count": null,
   "metadata": {},
   "outputs": [],
   "source": []
  }
 ],
 "metadata": {
  "kernelspec": {
   "display_name": "Python",
   "language": "python",
   "name": "conda-env-python-py"
  },
  "language_info": {
   "codemirror_mode": {
    "name": "ipython",
    "version": 3
   },
   "file_extension": ".py",
   "mimetype": "text/x-python",
   "name": "python",
   "nbconvert_exporter": "python",
   "pygments_lexer": "ipython3",
   "version": "3.6.10"
  }
 },
 "nbformat": 4,
 "nbformat_minor": 4
}
